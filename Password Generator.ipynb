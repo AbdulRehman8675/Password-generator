{
 "cells": [
  {
   "cell_type": "code",
   "execution_count": 10,
   "id": "720dc886-d39f-4e59-89d8-0bea4d4f8ade",
   "metadata": {},
   "outputs": [
    {
     "name": "stdout",
     "output_type": "stream",
     "text": [
      "For Exit the loop Enter 0\n"
     ]
    },
    {
     "name": "stdin",
     "output_type": "stream",
     "text": [
      "Enter the length of password! 98\n"
     ]
    },
    {
     "name": "stdout",
     "output_type": "stream",
     "text": [
      "That is your Password Q8cj7yYfgiLhrIt8xqoCitJvWQ4RSr1M5fdX1MzFOc26A4jgowmqbgf6ChmW2UPnqZJezYJv6oLQgBPbHq4ffahLDTJDLmCvgC\n"
     ]
    },
    {
     "name": "stdin",
     "output_type": "stream",
     "text": [
      "Enter the length of password! 09\n"
     ]
    },
    {
     "name": "stdout",
     "output_type": "stream",
     "text": [
      "That is your Password QscKPwxNP\n"
     ]
    },
    {
     "name": "stdin",
     "output_type": "stream",
     "text": [
      "Enter the length of password! 123\n"
     ]
    },
    {
     "name": "stdout",
     "output_type": "stream",
     "text": [
      "That is your Password JpPSrBtWJ4t51sngGCboY5efCObl6QY2Bvbequ977rQIAvkiBYKugZMISVBUt8sL0sUJPNvWDZdmbwR0l4nAexGdb3qV6lCHfsaPTHBTmWBzjj9NSXvob5hq08S\n"
     ]
    },
    {
     "name": "stdin",
     "output_type": "stream",
     "text": [
      "Enter the length of password! 0\n"
     ]
    }
   ],
   "source": [
    "import random\n",
    "import string\n",
    "\n",
    "print(\"For Exit the loop Enter 0\")\n",
    "\n",
    "while True:\n",
    "    \n",
    "    user_input = int(input(\"Enter the length of password!\"))\n",
    "\n",
    "    if user_input == 0:\n",
    "        break\n",
    "    \n",
    "    else:\n",
    "    \n",
    "        password = ''.join(random.choices(string.ascii_letters + string.digits, k=user_input))\n",
    "        \n",
    "        print(f\"That is your Password {password}\")\n",
    "\n"
   ]
  },
  {
   "cell_type": "code",
   "execution_count": null,
   "id": "60e82332-fae4-4cf5-9bc8-9abe82ba45ff",
   "metadata": {},
   "outputs": [],
   "source": []
  }
 ],
 "metadata": {
  "kernelspec": {
   "display_name": "Python 3 (ipykernel)",
   "language": "python",
   "name": "python3"
  },
  "language_info": {
   "codemirror_mode": {
    "name": "ipython",
    "version": 3
   },
   "file_extension": ".py",
   "mimetype": "text/x-python",
   "name": "python",
   "nbconvert_exporter": "python",
   "pygments_lexer": "ipython3",
   "version": "3.12.4"
  }
 },
 "nbformat": 4,
 "nbformat_minor": 5
}
